{
 "cells": [
  {
   "cell_type": "code",
   "execution_count": 1,
   "metadata": {
    "collapsed": false
   },
   "outputs": [
    {
     "name": "stderr",
     "output_type": "stream",
     "text": [
      "/home/q/anaconda/envs/experimental/lib/python2.7/site-packages/matplotlib/font_manager.py:273: UserWarning: Matplotlib is building the font cache using fc-list. This may take a moment.\n",
      "  warnings.warn('Matplotlib is building the font cache using fc-list. This may take a moment.')\n"
     ]
    }
   ],
   "source": [
    "import numpy as np\n",
    "import pandas as pd\n",
    "from __future__ import division\n",
    "%matplotlib inline \n",
    "import matplotlib.pyplot as plt\n",
    "from sklearn import linear_model\n",
    "import xgboost as xgb\n",
    "from xgboost.sklearn import XGBClassifier\n",
    "from sklearn import cross_validation, metrics   #Additional scklearn functions\n",
    "from sklearn.grid_search import GridSearchCV\n",
    "from sklearn.cross_validation import StratifiedKFold\n",
    "from sklearn.cross_validation import cross_val_score\n",
    "from sklearn.metrics import auc"
   ]
  },
  {
   "cell_type": "code",
   "execution_count": 2,
   "metadata": {
    "collapsed": true
   },
   "outputs": [],
   "source": [
    "train = pd.read_csv('../../finalData/train_sub200_all.csv')\n",
    "test = pd.read_csv('../../finalData/test_sub200_all.csv')"
   ]
  },
  {
   "cell_type": "code",
   "execution_count": 3,
   "metadata": {
    "collapsed": false
   },
   "outputs": [],
   "source": [
    "train_y = train['vio3']\n",
    "test_y = test['vio3']"
   ]
  },
  {
   "cell_type": "code",
   "execution_count": 4,
   "metadata": {
    "collapsed": true
   },
   "outputs": [],
   "source": [
    "train_X = train[train.columns[1:201]]\n",
    "test_X = test[test.columns[1:201]]"
   ]
  },
  {
   "cell_type": "code",
   "execution_count": 5,
   "metadata": {
    "collapsed": false
   },
   "outputs": [
    {
     "name": "stdout",
     "output_type": "stream",
     "text": [
      "Fitting 3 folds for each of 16 candidates, totalling 48 fits\n",
      "[CV] n_estimators=300, learning_rate=0.05, max_depth=2 ...............\n",
      "[CV] n_estimators=300, learning_rate=0.05, max_depth=2 ...............\n",
      "[CV] n_estimators=300, learning_rate=0.05, max_depth=2 ...............\n",
      "[CV] n_estimators=500, learning_rate=0.05, max_depth=2 ...............\n",
      "[CV] n_estimators=500, learning_rate=0.05, max_depth=2 ...............\n",
      "[CV] n_estimators=500, learning_rate=0.05, max_depth=2 ...............\n",
      "[CV] n_estimators=300, learning_rate=0.05, max_depth=3 ...............\n",
      "[CV]  n_estimators=300, learning_rate=0.05, max_depth=2, score=0.838722 - 1.4min\n",
      "[CV] n_estimators=300, learning_rate=0.05, max_depth=3 ...............\n",
      "[CV]  n_estimators=300, learning_rate=0.05, max_depth=2, score=0.842578 - 1.4min\n",
      "[CV] n_estimators=300, learning_rate=0.05, max_depth=3 ...............\n",
      "[CV]  n_estimators=300, learning_rate=0.05, max_depth=2, score=0.836284 - 1.4min\n",
      "[CV] n_estimators=500, learning_rate=0.05, max_depth=3 ...............\n",
      "[CV]  n_estimators=300, learning_rate=0.05, max_depth=3, score=0.842081 - 2.0min\n",
      "[CV] n_estimators=500, learning_rate=0.05, max_depth=3 ...............\n"
     ]
    },
    {
     "name": "stderr",
     "output_type": "stream",
     "text": [
      "[Parallel(n_jobs=7)]: Done   4 tasks      | elapsed:  2.0min\n"
     ]
    },
    {
     "name": "stdout",
     "output_type": "stream",
     "text": [
      "[CV]  n_estimators=500, learning_rate=0.05, max_depth=2, score=0.840613 - 2.3min\n",
      "[CV]  n_estimators=500, learning_rate=0.05, max_depth=2, score=0.836633 - 2.3min\n",
      "[CV] n_estimators=500, learning_rate=0.05, max_depth=3 ...............\n",
      "[CV] n_estimators=300, learning_rate=0.05, max_depth=8 ...............\n",
      "[CV]  n_estimators=500, learning_rate=0.05, max_depth=2, score=0.843279 - 2.4min\n",
      "[CV] n_estimators=300, learning_rate=0.05, max_depth=8 ...............\n",
      "[CV]  n_estimators=300, learning_rate=0.05, max_depth=3, score=0.831085 - 2.0min\n",
      "[CV] n_estimators=300, learning_rate=0.05, max_depth=8 ...............\n",
      "[CV]  n_estimators=300, learning_rate=0.05, max_depth=3, score=0.846720 - 2.1min\n",
      "[CV] n_estimators=500, learning_rate=0.05, max_depth=8 ...............\n",
      "[CV]  n_estimators=500, learning_rate=0.05, max_depth=3, score=0.840513 - 3.5min\n",
      "[CV] n_estimators=500, learning_rate=0.05, max_depth=8 ...............\n",
      "[CV]  n_estimators=500, learning_rate=0.05, max_depth=3, score=0.846339 - 3.6min\n",
      "[CV] n_estimators=500, learning_rate=0.05, max_depth=8 ...............\n"
     ]
    },
    {
     "name": "stderr",
     "output_type": "stream",
     "text": [
      "[Parallel(n_jobs=7)]: Done  11 tasks      | elapsed:  5.6min\n"
     ]
    },
    {
     "name": "stdout",
     "output_type": "stream",
     "text": [
      "[CV]  n_estimators=500, learning_rate=0.05, max_depth=3, score=0.829278 - 3.5min\n",
      "[CV] n_estimators=300, learning_rate=0.05, max_depth=12 ..............\n",
      "[CV]  n_estimators=300, learning_rate=0.05, max_depth=8, score=0.811515 - 8.9min\n",
      "[CV] n_estimators=300, learning_rate=0.05, max_depth=12 ..............\n",
      "[CV]  n_estimators=300, learning_rate=0.05, max_depth=8, score=0.844583 - 9.5min\n",
      "[CV] n_estimators=300, learning_rate=0.05, max_depth=12 ..............\n",
      "[CV]  n_estimators=300, learning_rate=0.05, max_depth=8, score=0.813096 - 9.1min\n",
      "[CV] n_estimators=500, learning_rate=0.05, max_depth=12 ..............\n",
      "[CV]  n_estimators=500, learning_rate=0.05, max_depth=8, score=0.814277 -14.1min\n",
      "[CV] n_estimators=500, learning_rate=0.05, max_depth=12 ..............\n",
      "[CV]  n_estimators=500, learning_rate=0.05, max_depth=8, score=0.813384 -14.4min\n",
      "[CV] n_estimators=500, learning_rate=0.05, max_depth=12 ..............\n",
      "[CV]  n_estimators=500, learning_rate=0.05, max_depth=8, score=0.842095 -15.2min\n",
      "[CV] n_estimators=300, learning_rate=0.1, max_depth=2 ................\n"
     ]
    },
    {
     "name": "stderr",
     "output_type": "stream",
     "text": [
      "[Parallel(n_jobs=7)]: Done  18 tasks      | elapsed: 20.1min\n"
     ]
    },
    {
     "name": "stdout",
     "output_type": "stream",
     "text": [
      "[CV]  n_estimators=300, learning_rate=0.1, max_depth=2, score=0.836382 - 1.5min\n",
      "[CV] n_estimators=300, learning_rate=0.1, max_depth=2 ................\n",
      "[CV]  n_estimators=300, learning_rate=0.1, max_depth=2, score=0.844199 - 1.5min\n",
      "[CV] n_estimators=300, learning_rate=0.1, max_depth=2 ................\n",
      "[CV]  n_estimators=300, learning_rate=0.05, max_depth=12, score=0.799031 -18.7min\n",
      "[CV] n_estimators=500, learning_rate=0.1, max_depth=2 ................\n",
      "[CV]  n_estimators=300, learning_rate=0.1, max_depth=2, score=0.839136 - 1.5min\n",
      "[CV] n_estimators=500, learning_rate=0.1, max_depth=2 ................\n",
      "[CV]  n_estimators=500, learning_rate=0.1, max_depth=2, score=0.843162 - 2.5min\n",
      "[CV] n_estimators=500, learning_rate=0.1, max_depth=2 ................\n",
      "[CV]  n_estimators=500, learning_rate=0.1, max_depth=2, score=0.836830 - 2.5min\n",
      "[CV] n_estimators=300, learning_rate=0.1, max_depth=3 ................\n",
      "[CV]  n_estimators=300, learning_rate=0.1, max_depth=3, score=0.835821 - 2.2min\n",
      "[CV] n_estimators=300, learning_rate=0.1, max_depth=3 ................\n",
      "[CV]  n_estimators=500, learning_rate=0.1, max_depth=2, score=0.838376 - 2.5min\n",
      "[CV] n_estimators=300, learning_rate=0.1, max_depth=3 ................\n",
      "[CV]  n_estimators=300, learning_rate=0.05, max_depth=12, score=0.802200 -19.1min\n",
      "[CV] n_estimators=500, learning_rate=0.1, max_depth=3 ................\n"
     ]
    },
    {
     "name": "stderr",
     "output_type": "stream",
     "text": [
      "[Parallel(n_jobs=7)]: Done  27 tasks      | elapsed: 31.0min\n"
     ]
    },
    {
     "name": "stdout",
     "output_type": "stream",
     "text": [
      "[CV]  n_estimators=300, learning_rate=0.1, max_depth=3, score=0.845501 - 2.1min\n",
      "[CV] n_estimators=500, learning_rate=0.1, max_depth=3 ................\n",
      "[CV]  n_estimators=300, learning_rate=0.05, max_depth=12, score=0.839340 -20.5min\n",
      "[CV] n_estimators=500, learning_rate=0.1, max_depth=3 ................\n",
      "[CV]  n_estimators=300, learning_rate=0.1, max_depth=3, score=0.825838 - 2.2min\n",
      "[CV] n_estimators=300, learning_rate=0.1, max_depth=8 ................\n",
      "[CV]  n_estimators=500, learning_rate=0.1, max_depth=3, score=0.832438 - 3.6min\n",
      "[CV] n_estimators=300, learning_rate=0.1, max_depth=8 ................\n",
      "[CV]  n_estimators=500, learning_rate=0.1, max_depth=3, score=0.842317 - 3.6min\n",
      "[CV] n_estimators=300, learning_rate=0.1, max_depth=8 ................\n",
      "[CV]  n_estimators=500, learning_rate=0.1, max_depth=3, score=0.822305 - 3.6min\n",
      "[CV] n_estimators=500, learning_rate=0.1, max_depth=8 ................\n",
      "[CV]  n_estimators=300, learning_rate=0.1, max_depth=8, score=0.813718 - 8.5min\n",
      "[CV] n_estimators=500, learning_rate=0.1, max_depth=8 ................\n",
      "[CV]  n_estimators=500, learning_rate=0.05, max_depth=12, score=0.809242 -28.3min\n",
      "[CV] n_estimators=500, learning_rate=0.1, max_depth=8 ................\n",
      "[CV]  n_estimators=300, learning_rate=0.1, max_depth=8, score=0.809029 - 8.5min\n",
      "[CV] n_estimators=300, learning_rate=0.1, max_depth=12 ...............\n",
      "[CV]  n_estimators=300, learning_rate=0.1, max_depth=8, score=0.839732 - 9.1min\n",
      "[CV] n_estimators=300, learning_rate=0.1, max_depth=12 ...............\n",
      "[CV]  n_estimators=500, learning_rate=0.05, max_depth=12, score=0.837183 -30.2min\n",
      "[CV] n_estimators=300, learning_rate=0.1, max_depth=12 ...............\n",
      "[CV]  n_estimators=500, learning_rate=0.05, max_depth=12, score=0.810075 -28.7min\n",
      "[CV] n_estimators=500, learning_rate=0.1, max_depth=12 ...............\n",
      "[CV]  n_estimators=500, learning_rate=0.1, max_depth=8, score=0.815084 -14.0min\n",
      "[CV] n_estimators=500, learning_rate=0.1, max_depth=12 ...............\n",
      "[CV]  n_estimators=500, learning_rate=0.1, max_depth=8, score=0.809466 -13.9min\n",
      "[CV] n_estimators=500, learning_rate=0.1, max_depth=12 ...............\n",
      "[CV]  n_estimators=500, learning_rate=0.1, max_depth=8, score=0.838087 -14.6min\n",
      "[CV]  n_estimators=300, learning_rate=0.1, max_depth=12, score=0.814397 -15.6min\n",
      "[CV]  n_estimators=300, learning_rate=0.1, max_depth=12, score=0.838454 -16.5min\n",
      "[CV]  n_estimators=300, learning_rate=0.1, max_depth=12, score=0.816438 -14.0min\n",
      "[CV]  n_estimators=500, learning_rate=0.1, max_depth=12, score=0.817936 -16.0min\n",
      "[CV]  n_estimators=500, learning_rate=0.1, max_depth=12, score=0.838187 -15.6min\n",
      "[CV]  n_estimators=500, learning_rate=0.1, max_depth=12, score=0.822928 -10.2min\n"
     ]
    },
    {
     "name": "stderr",
     "output_type": "stream",
     "text": [
      "[Parallel(n_jobs=7)]: Done  48 out of  48 | elapsed: 65.0min finished\n"
     ]
    },
    {
     "name": "stdout",
     "output_type": "stream",
     "text": [
      "{'n_estimators': 500, 'learning_rate': 0.05, 'max_depth': 2}\n"
     ]
    }
   ],
   "source": [
    "gbm = xgb.XGBClassifier()\n",
    "gbm_params = {\n",
    "    'learning_rate': [0.05, 0.1],\n",
    "    'n_estimators': [300, 500],\n",
    "    'max_depth': [2, 3, 8, 12],\n",
    "}\n",
    "cv = StratifiedKFold(train_y)\n",
    "grid = GridSearchCV(gbm, gbm_params,scoring='roc_auc',cv=cv,verbose=10,n_jobs=7)\n",
    "grid.fit(train_X, train_y)\n",
    "\n",
    "print (grid.best_params_)"
   ]
  },
  {
   "cell_type": "code",
   "execution_count": 6,
   "metadata": {
    "collapsed": false
   },
   "outputs": [
    {
     "ename": "TypeError",
     "evalue": "invalid type comparison",
     "output_type": "error",
     "traceback": [
      "\u001b[1;31m---------------------------------------------------------------------------\u001b[0m",
      "\u001b[1;31mTypeError\u001b[0m                                 Traceback (most recent call last)",
      "\u001b[1;32m<ipython-input-6-9ac886b94c65>\u001b[0m in \u001b[0;36m<module>\u001b[1;34m()\u001b[0m\n\u001b[0;32m      1\u001b[0m \u001b[0mpreds_probs\u001b[0m \u001b[1;33m=\u001b[0m \u001b[0mgrid\u001b[0m\u001b[1;33m.\u001b[0m\u001b[0mbest_estimator_\u001b[0m\u001b[1;33m.\u001b[0m\u001b[0mpredict\u001b[0m\u001b[1;33m(\u001b[0m\u001b[0mtest_X\u001b[0m\u001b[1;33m)\u001b[0m\u001b[1;33m\u001b[0m\u001b[0m\n\u001b[0;32m      2\u001b[0m \u001b[0mpreds_raw\u001b[0m \u001b[1;33m=\u001b[0m \u001b[0mgrid\u001b[0m\u001b[1;33m.\u001b[0m\u001b[0mbest_estimator_\u001b[0m\u001b[1;33m.\u001b[0m\u001b[0mpredict_proba\u001b[0m\u001b[1;33m(\u001b[0m\u001b[0mtest_X\u001b[0m\u001b[1;33m)\u001b[0m\u001b[1;33m\u001b[0m\u001b[0m\n\u001b[1;32m----> 3\u001b[1;33m \u001b[0msum\u001b[0m\u001b[1;33m(\u001b[0m\u001b[0mpreds_raw\u001b[0m \u001b[1;33m==\u001b[0m \u001b[0mtest_y\u001b[0m\u001b[1;33m)\u001b[0m\u001b[1;33m/\u001b[0m\u001b[0mlen\u001b[0m\u001b[1;33m(\u001b[0m\u001b[0mtest_y\u001b[0m\u001b[1;33m)\u001b[0m\u001b[1;33m\u001b[0m\u001b[0m\n\u001b[0m",
      "\u001b[1;32m/home/q/anaconda/envs/experimental/lib/python2.7/site-packages/pandas/core/ops.pyc\u001b[0m in \u001b[0;36mwrapper\u001b[1;34m(self, other, axis)\u001b[0m\n\u001b[0;32m    739\u001b[0m             \u001b[1;32mif\u001b[0m \u001b[0mlen\u001b[0m\u001b[1;33m(\u001b[0m\u001b[0mself\u001b[0m\u001b[1;33m)\u001b[0m \u001b[1;33m!=\u001b[0m \u001b[0mlen\u001b[0m\u001b[1;33m(\u001b[0m\u001b[0mother\u001b[0m\u001b[1;33m)\u001b[0m\u001b[1;33m:\u001b[0m\u001b[1;33m\u001b[0m\u001b[0m\n\u001b[0;32m    740\u001b[0m                 \u001b[1;32mraise\u001b[0m \u001b[0mValueError\u001b[0m\u001b[1;33m(\u001b[0m\u001b[1;34m'Lengths must match to compare'\u001b[0m\u001b[1;33m)\u001b[0m\u001b[1;33m\u001b[0m\u001b[0m\n\u001b[1;32m--> 741\u001b[1;33m             return self._constructor(na_op(self.values, np.asarray(other)),\n\u001b[0m\u001b[0;32m    742\u001b[0m                                      index=self.index).__finalize__(self)\n\u001b[0;32m    743\u001b[0m         \u001b[1;32melif\u001b[0m \u001b[0misinstance\u001b[0m\u001b[1;33m(\u001b[0m\u001b[0mother\u001b[0m\u001b[1;33m,\u001b[0m \u001b[0mpd\u001b[0m\u001b[1;33m.\u001b[0m\u001b[0mCategorical\u001b[0m\u001b[1;33m)\u001b[0m\u001b[1;33m:\u001b[0m\u001b[1;33m\u001b[0m\u001b[0m\n",
      "\u001b[1;32m/home/q/anaconda/envs/experimental/lib/python2.7/site-packages/pandas/core/ops.pyc\u001b[0m in \u001b[0;36mna_op\u001b[1;34m(x, y)\u001b[0m\n\u001b[0;32m    714\u001b[0m                 \u001b[0mresult\u001b[0m \u001b[1;33m=\u001b[0m \u001b[0mgetattr\u001b[0m\u001b[1;33m(\u001b[0m\u001b[0mx\u001b[0m\u001b[1;33m,\u001b[0m \u001b[0mname\u001b[0m\u001b[1;33m)\u001b[0m\u001b[1;33m(\u001b[0m\u001b[0my\u001b[0m\u001b[1;33m)\u001b[0m\u001b[1;33m\u001b[0m\u001b[0m\n\u001b[0;32m    715\u001b[0m                 \u001b[1;32mif\u001b[0m \u001b[0mresult\u001b[0m \u001b[1;32mis\u001b[0m \u001b[0mNotImplemented\u001b[0m\u001b[1;33m:\u001b[0m\u001b[1;33m\u001b[0m\u001b[0m\n\u001b[1;32m--> 716\u001b[1;33m                     \u001b[1;32mraise\u001b[0m \u001b[0mTypeError\u001b[0m\u001b[1;33m(\u001b[0m\u001b[1;34m\"invalid type comparison\"\u001b[0m\u001b[1;33m)\u001b[0m\u001b[1;33m\u001b[0m\u001b[0m\n\u001b[0m\u001b[0;32m    717\u001b[0m             \u001b[1;32mexcept\u001b[0m \u001b[0mAttributeError\u001b[0m\u001b[1;33m:\u001b[0m\u001b[1;33m\u001b[0m\u001b[0m\n\u001b[0;32m    718\u001b[0m                 \u001b[0mresult\u001b[0m \u001b[1;33m=\u001b[0m \u001b[0mop\u001b[0m\u001b[1;33m(\u001b[0m\u001b[0mx\u001b[0m\u001b[1;33m,\u001b[0m \u001b[0my\u001b[0m\u001b[1;33m)\u001b[0m\u001b[1;33m\u001b[0m\u001b[0m\n",
      "\u001b[1;31mTypeError\u001b[0m: invalid type comparison"
     ]
    }
   ],
   "source": [
    "preds_probs = grid.best_estimator_.predict(test_X)\n",
    "preds_raw = grid.best_estimator_.predict_proba(test_X)\n",
    "sum(preds_raw == test_y)/len(test_y)"
   ]
  },
  {
   "cell_type": "code",
   "execution_count": null,
   "metadata": {
    "collapsed": true
   },
   "outputs": [],
   "source": [
    "from sklearn import metrics"
   ]
  },
  {
   "cell_type": "code",
   "execution_count": null,
   "metadata": {
    "collapsed": false
   },
   "outputs": [],
   "source": [
    "metrics.roc_auc_score(y_true = test_y, y_score = preds_probs[:,1])"
   ]
  }
 ],
 "metadata": {
  "kernelspec": {
   "display_name": "Python 2",
   "language": "python",
   "name": "python2"
  },
  "language_info": {
   "codemirror_mode": {
    "name": "ipython",
    "version": 2
   },
   "file_extension": ".py",
   "mimetype": "text/x-python",
   "name": "python",
   "nbconvert_exporter": "python",
   "pygments_lexer": "ipython2",
   "version": "2.7.11"
  }
 },
 "nbformat": 4,
 "nbformat_minor": 0
}
