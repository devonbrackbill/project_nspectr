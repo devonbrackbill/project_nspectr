{
 "cells": [
  {
   "cell_type": "code",
   "execution_count": 1,
   "metadata": {
    "collapsed": false
   },
   "outputs": [
    {
     "name": "stderr",
     "output_type": "stream",
     "text": [
      "/home/q/anaconda/envs/experimental/lib/python2.7/site-packages/matplotlib/font_manager.py:273: UserWarning: Matplotlib is building the font cache using fc-list. This may take a moment.\n",
      "  warnings.warn('Matplotlib is building the font cache using fc-list. This may take a moment.')\n"
     ]
    }
   ],
   "source": [
    "# BASELINE RANDOM FOREST MODEL\n",
    "import numpy as np\n",
    "import pandas as pd\n",
    "from __future__ import division\n",
    "%matplotlib inline \n",
    "import matplotlib.pyplot as plt"
   ]
  },
  {
   "cell_type": "code",
   "execution_count": 2,
   "metadata": {
    "collapsed": false
   },
   "outputs": [],
   "source": [
    "all_data = pd.DataFrame.from_csv('../../finalData/DataPriorToModels.csv')"
   ]
  },
  {
   "cell_type": "code",
   "execution_count": 3,
   "metadata": {
    "collapsed": false
   },
   "outputs": [],
   "source": [
    "all_data = all_data.drop(['restaurant_id', 'prior_date', 'open'],1,errors='ignore')"
   ]
  },
  {
   "cell_type": "code",
   "execution_count": 4,
   "metadata": {
    "collapsed": false
   },
   "outputs": [],
   "source": [
    "all_data = all_data.dropna(axis=1)"
   ]
  },
  {
   "cell_type": "code",
   "execution_count": 5,
   "metadata": {
    "collapsed": false
   },
   "outputs": [
    {
     "data": {
      "text/plain": [
       "(27088, 7097)"
      ]
     },
     "execution_count": 5,
     "metadata": {},
     "output_type": "execute_result"
    }
   ],
   "source": [
    "all_data.shape"
   ]
  },
  {
   "cell_type": "code",
   "execution_count": 6,
   "metadata": {
    "collapsed": false
   },
   "outputs": [],
   "source": [
    "#include = [col for col in all_data.columns if col not in ['vio1', 'vio2', 'vio3']]\n",
    "\n",
    "train_X = all_data[all_data['year'] < 2014]\n",
    "test_X = all_data[all_data['year'] >= 2014]"
   ]
  },
  {
   "cell_type": "code",
   "execution_count": 7,
   "metadata": {
    "collapsed": false
   },
   "outputs": [],
   "source": [
    "train_y = train_X['vio3']\n",
    "test_y = test_X['vio3']"
   ]
  },
  {
   "cell_type": "code",
   "execution_count": 8,
   "metadata": {
    "collapsed": false
   },
   "outputs": [],
   "source": [
    "train_X = train_X.drop(['vio1', 'vio2', 'vio3'],axis=1, errors='ignore')\n",
    "test_X = test_X.drop(['vio1', 'vio2', 'vio3'],axis=1, errors='ignore')"
   ]
  },
  {
   "cell_type": "code",
   "execution_count": 9,
   "metadata": {
    "collapsed": false
   },
   "outputs": [],
   "source": [
    "train_X = train_X.drop(['date'],1)\n",
    "test_X = test_X.drop(['date'],1)"
   ]
  },
  {
   "cell_type": "code",
   "execution_count": 10,
   "metadata": {
    "collapsed": false
   },
   "outputs": [
    {
     "data": {
      "text/plain": [
       "(23597, 7092)"
      ]
     },
     "execution_count": 10,
     "metadata": {},
     "output_type": "execute_result"
    }
   ],
   "source": [
    "train_X = train_X.drop(train_X.columns[0],axis=1)\n",
    "train_X.shape"
   ]
  },
  {
   "cell_type": "code",
   "execution_count": 11,
   "metadata": {
    "collapsed": false
   },
   "outputs": [
    {
     "data": {
      "text/plain": [
       "(3491, 7092)"
      ]
     },
     "execution_count": 11,
     "metadata": {},
     "output_type": "execute_result"
    }
   ],
   "source": [
    "test_X = test_X.drop(test_X.columns[0], axis=1)\n",
    "test_X.shape"
   ]
  },
  {
   "cell_type": "code",
   "execution_count": 12,
   "metadata": {
    "collapsed": false
   },
   "outputs": [],
   "source": [
    "# create dummy var for severe violations (y3)\n",
    "train_y_dum = train_y.map(lambda x: x>=1 and 1 or 0)\n",
    "test_y_dum = test_y.map(lambda x: x>=1 and 1 or 0)"
   ]
  },
  {
   "cell_type": "code",
   "execution_count": 13,
   "metadata": {
    "collapsed": false
   },
   "outputs": [],
   "source": [
    "from sklearn.ensemble import RandomForestClassifier\n",
    "from sklearn.metrics import mean_squared_error\n",
    "from math import sqrt"
   ]
  },
  {
   "cell_type": "code",
   "execution_count": 14,
   "metadata": {
    "collapsed": false
   },
   "outputs": [],
   "source": [
    "fit = []\n",
    "my_mod = (RandomForestClassifier(\n",
    "            n_estimators = 500,\n",
    "            n_jobs = 6)\n",
    "                   )\n",
    "\n",
    "my_mod.fit(train_X,train_y_dum)\n",
    "fit.append(my_mod)\n",
    "\n",
    "preds = my_mod.predict(test_X)"
   ]
  },
  {
   "cell_type": "code",
   "execution_count": 15,
   "metadata": {
    "collapsed": false
   },
   "outputs": [
    {
     "data": {
      "text/plain": [
       "0.64909767974792321"
      ]
     },
     "execution_count": 15,
     "metadata": {},
     "output_type": "execute_result"
    }
   ],
   "source": [
    "sum(preds == test_y_dum)/len(test_y_dum)"
   ]
  },
  {
   "cell_type": "code",
   "execution_count": 16,
   "metadata": {
    "collapsed": false
   },
   "outputs": [],
   "source": [
    "imp = my_mod.feature_importances_"
   ]
  },
  {
   "cell_type": "code",
   "execution_count": 17,
   "metadata": {
    "collapsed": false
   },
   "outputs": [
    {
     "name": "stdout",
     "output_type": "stream",
     "text": [
      "Feature ranking:\n",
      "1. feature 5003 (0.093413)\n",
      "2. feature 5004 (0.038363)\n",
      "3. feature 5240 (0.030936)\n",
      "4. feature 5000 (0.028583)\n",
      "5. feature 5001 (0.023574)\n",
      "6. feature 5239 (0.021179)\n",
      "7. feature 5020 (0.009594)\n",
      "8. feature 5019 (0.009387)\n",
      "9. feature 5021 (0.008717)\n",
      "10. feature 5010 (0.008140)\n",
      "11. feature 5009 (0.008097)\n",
      "12. feature 5002 (0.007826)\n",
      "13. feature 5022 (0.004739)\n",
      "14. feature 5044 (0.003047)\n",
      "15. feature 5054 (0.002976)\n",
      "16. feature 5033 (0.002956)\n",
      "17. feature 5053 (0.002815)\n",
      "18. feature 5030 (0.002717)\n",
      "19. feature 5025 (0.002666)\n",
      "20. feature 5074 (0.002435)\n",
      "21. feature 5039 (0.002389)\n",
      "22. feature 5042 (0.002301)\n",
      "23. feature 5052 (0.002287)\n",
      "24. feature 5051 (0.002237)\n",
      "25. feature 5072 (0.002235)\n",
      "26. feature 5038 (0.002206)\n",
      "27. feature 5040 (0.002182)\n",
      "28. feature 5028 (0.002148)\n",
      "29. feature 5066 (0.002109)\n",
      "30. feature 5055 (0.002049)\n"
     ]
    }
   ],
   "source": [
    "importances = my_mod.feature_importances_\n",
    "std = np.std([tree.feature_importances_ for tree in my_mod.estimators_],\n",
    "             axis=0)\n",
    "indices = np.argsort(importances)[::-1]\n",
    "indices = indices[0:200]\n",
    "\n",
    "# Print the feature ranking\n",
    "print(\"Feature ranking:\")\n",
    "\n",
    "for f in range(30):\n",
    "    print(\"%d. feature %d (%f)\" % (f + 1, indices[f], importances[indices[f]]))"
   ]
  },
  {
   "cell_type": "code",
   "execution_count": 18,
   "metadata": {
    "collapsed": false
   },
   "outputs": [
    {
     "name": "stdout",
     "output_type": "stream",
     "text": [
      "vio3_lag\n",
      "time_btw_insps\n",
      "month\n",
      "NA\n",
      "vio1_lag\n",
      "year\n",
      "longitude\n",
      "latitude\n",
      "review_count\n",
      "reviews_mean_filter\n",
      "reviews_mean\n",
      "vio2_lag\n",
      "stars\n",
      "Noise Level\n",
      "Wi-Fi\n",
      "Delivery\n",
      "Wheelchair Accessible\n",
      "Caters\n",
      "Alcohol\n",
      "lunch\n",
      "Good For Kids\n",
      "Has TV\n",
      "Waiter Service\n",
      "Takes Reservations\n",
      "dinner\n",
      "Good For Groups\n",
      "Good for Kids\n",
      "BYOB/Corkage\n",
      "street\n",
      "casual\n",
      "Outdoor Seating\n",
      "reviews_count\n",
      "latenight\n",
      "food_text\n",
      "good_text\n",
      "place_text\n",
      "reviews_count_filter\n",
      "Take-out\n",
      "Music\n",
      "breakfast\n",
      "reviews_pos_count_filter\n",
      "reviews_pos_count\n",
      "Accepts Credit Cards\n",
      "like_text\n",
      "Sandwiches\n",
      "BYOB\n",
      "Pizza\n",
      "great_text\n",
      "reviews_sd_filter\n",
      "just_text\n",
      "Chinese\n",
      "garage\n",
      "Corkage\n",
      "Order at Counter\n",
      "reviews_sd\n",
      "really_text\n",
      "lot\n",
      "love_text\n",
      "divey\n",
      "Attire\n",
      "service_text\n",
      "time_text\n",
      "don_text\n",
      "boston_text\n",
      "ve_text\n",
      "Italian\n",
      "Coffee & Tea\n",
      "dessert\n",
      "brunch\n",
      "best_text\n",
      "Food\n",
      "chicken_text\n",
      "Dogs Allowed\n",
      "nice_text\n",
      "staff_text\n",
      "pretty_text\n",
      "people_text\n",
      "order_text\n",
      "come_text\n",
      "Happy Hour\n",
      "Drive-Thru\n",
      "American (Traditional)\n",
      "Restaurants\n",
      "little_text\n",
      "better_text\n",
      "got_text\n",
      "lunch_text\n",
      "Japanese\n",
      "Smoking\n",
      "friendly_text\n",
      "classy\n",
      "way_text\n",
      "make_text\n",
      "think_text\n",
      "ordered_text\n",
      "reviews_skew_filter\n",
      "cheese_text\n",
      "delicious_text\n",
      "going_text\n",
      "try_text\n",
      "eat_text\n",
      "reviews_skew\n",
      "want_text\n",
      "trendy\n",
      "touristy\n",
      "rice_text\n",
      "bad_text\n",
      "know_text\n",
      "reviews_neg_count_filter\n",
      "menu_text\n",
      "Sushi Bars\n",
      "Coat Check\n",
      "intimate\n",
      "times_text\n",
      "definitely_text\n",
      "went_text\n",
      "pizza_text\n",
      "restaurant_text\n",
      "upscale\n",
      "reviews_neg_count\n",
      "Fast Food\n",
      "day_text\n",
      "bit_text\n",
      "fresh_text\n",
      "area_text\n",
      "right_text\n",
      "experience_text\n",
      "quick_text\n",
      "night_text\n",
      "Good For Dancing\n",
      "say_text\n",
      "valet\n",
      "didn_text\n",
      "ll_text\n",
      "sure_text\n",
      "places_text\n",
      "validated\n",
      "romantic\n",
      "small_text\n",
      "awesome_text\n",
      "stars_text\n",
      "Open 24 Hours\n",
      "end_text\n",
      "Bars\n",
      "prices_text\n",
      "work_text\n",
      "came_text\n",
      "Burgers\n",
      "lot_text\n",
      "rolls_text\n",
      "reviews_kurtosis\n",
      "hipster\n",
      "Nightlife\n",
      "thing_text\n",
      "did_text\n",
      "big_text\n",
      "cheap_text\n",
      "American (New)\n",
      "tasty_text\n",
      "fried_text\n",
      "Salad\n",
      "Mexican\n",
      "Bakeries\n",
      "hot_text\n",
      "sauce_text\n",
      "price_text\n",
      "reviews_kurtosis_filter\n",
      "quite_text\n",
      "location_text\n",
      "chinese_text\n",
      "Breakfast & Brunch\n",
      "decent_text\n",
      "feel_text\n",
      "meal_text\n",
      "favorite_text\n",
      "taste_text\n",
      "spicy_text\n",
      "quality_text\n",
      "usually_text\n",
      "amazing_text\n",
      "coffee_text\n",
      "salad_text\n",
      "probably_text\n",
      "bar_text\n",
      "huge_text\n",
      "sushi_text\n",
      "dinner_text\n",
      "special_text\n",
      "worth_text\n",
      "sandwich_text\n",
      "street_text\n",
      "actually_text\n",
      "tried_text\n",
      "said_text\n",
      "Latin American\n",
      "Seafood\n",
      "maybe_text\n",
      "Delis\n",
      "spot_text\n",
      "ok_text\n"
     ]
    }
   ],
   "source": [
    "for i in train_X.columns[indices]:\n",
    "    print i"
   ]
  },
  {
   "cell_type": "code",
   "execution_count": 51,
   "metadata": {
    "collapsed": false
   },
   "outputs": [
    {
     "data": {
      "image/png": "[encoded data removed]",
      "text/plain": [
       "<matplotlib.figure.Figure at 0x7fea7bfcea10>"
      ]
     },
     "metadata": {},
     "output_type": "display_data"
    }
   ],
   "source": [
    "# Plot the feature importances of the forest\n",
    "plt.figure()\n",
    "plt.title(\"Feature importances\")\n",
    "plt.bar(range(len(indices)), importances[indices],\n",
    "       color=\"r\", yerr=std[indices], align=\"center\")\n",
    "plt.xticks(range(20), train_X.columns[indices], rotation=90)\n",
    "plt.xlim([-1, 20])\n",
    "plt.show()"
   ]
  },
  {
   "cell_type": "code",
   "execution_count": 20,
   "metadata": {
    "collapsed": false
   },
   "outputs": [
    {
     "data": {
      "text/plain": [
       "(23597, 200)"
      ]
     },
     "execution_count": 20,
     "metadata": {},
     "output_type": "execute_result"
    }
   ],
   "source": [
    "train_X_sub = train_X[indices]\n",
    "train_X_sub.shape"
   ]
  },
  {
   "cell_type": "code",
   "execution_count": 21,
   "metadata": {
    "collapsed": false
   },
   "outputs": [
    {
     "data": {
      "text/plain": [
       "(3491, 200)"
      ]
     },
     "execution_count": 21,
     "metadata": {},
     "output_type": "execute_result"
    }
   ],
   "source": [
    "test_X_sub = test_X[indices]\n",
    "test_X_sub.shape"
   ]
  },
  {
   "cell_type": "code",
   "execution_count": 22,
   "metadata": {
    "collapsed": true
   },
   "outputs": [],
   "source": [
    "# save 200-feature datasets to file\n",
    "train_X_sub.to_csv('../../finalData/train_sub200.csv')\n",
    "test_X_sub.to_csv('../../finalData/test_sub200.csv')"
   ]
  },
  {
   "cell_type": "code",
   "execution_count": 23,
   "metadata": {
    "collapsed": true
   },
   "outputs": [],
   "source": [
    "train_y_dum.to_csv('../../finalData/train_y_dum.csv')\n",
    "test_y_dum.to_csv('../../finalData/test_y_dum.csv')"
   ]
  },
  {
   "cell_type": "code",
   "execution_count": 60,
   "metadata": {
    "collapsed": false
   },
   "outputs": [],
   "source": [
    "train_X_sub_all = pd.concat([train_X_sub, train_y_dum], axis=1)\n",
    "test_X_sub_all = pd.concat([test_X_sub, test_y_dum], axis = 1)"
   ]
  },
  {
   "cell_type": "code",
   "execution_count": 63,
   "metadata": {
    "collapsed": true
   },
   "outputs": [],
   "source": [
    "train_X_sub_all.to_csv('../../finalData/train_sub200_all.csv')\n",
    "test_X_sub_all.to_csv('../../finalData/test_sub200_all.csv')"
   ]
  },
  {
   "cell_type": "code",
   "execution_count": 26,
   "metadata": {
    "collapsed": false
   },
   "outputs": [
    {
     "data": {
      "text/plain": [
       "RandomForestClassifier(bootstrap=True, class_weight=None, criterion='gini',\n",
       "            max_depth=None, max_features='auto', max_leaf_nodes=None,\n",
       "            min_samples_leaf=1, min_samples_split=2,\n",
       "            min_weight_fraction_leaf=0.0, n_estimators=500, n_jobs=6,\n",
       "            oob_score=False, random_state=None, verbose=0,\n",
       "            warm_start=False)"
      ]
     },
     "execution_count": 26,
     "metadata": {},
     "output_type": "execute_result"
    }
   ],
   "source": [
    "rf_mod = (RandomForestClassifier(\n",
    "            n_estimators = 500,\n",
    "            n_jobs = 6)\n",
    "                   )\n",
    "rf_mod.fit(train_X_sub,train_y_dum)"
   ]
  },
  {
   "cell_type": "code",
   "execution_count": 37,
   "metadata": {
    "collapsed": false
   },
   "outputs": [],
   "source": [
    "preds_rf_probs = rf_mod.predict_proba(test_X_sub)\n",
    "preds_rf_raw= rf_mod.predict(test_X_sub)\n"
   ]
  },
  {
   "cell_type": "code",
   "execution_count": 38,
   "metadata": {
    "collapsed": false
   },
   "outputs": [
    {
     "data": {
      "text/plain": [
       "0.69407046691492413"
      ]
     },
     "execution_count": 38,
     "metadata": {},
     "output_type": "execute_result"
    }
   ],
   "source": [
    "# these metrics are identical to those found at nspectr.org using R.\n",
    "sum(preds_rf_raw == test_y_dum)/len(test_y_dum)"
   ]
  },
  {
   "cell_type": "code",
   "execution_count": 31,
   "metadata": {
    "collapsed": true
   },
   "outputs": [],
   "source": [
    "from sklearn import metrics"
   ]
  },
  {
   "cell_type": "code",
   "execution_count": 44,
   "metadata": {
    "collapsed": false
   },
   "outputs": [
    {
     "data": {
      "text/plain": [
       "0.78975691969824147"
      ]
     },
     "execution_count": 44,
     "metadata": {},
     "output_type": "execute_result"
    }
   ],
   "source": [
    "# same metrics as the R script for model_baseline.R\n",
    "metrics.roc_auc_score(y_true = test_y_dum, y_score = preds_rf_probs[:,1])"
   ]
  }
 ],
 "metadata": {
  "kernelspec": {
   "display_name": "Python 2",
   "language": "python",
   "name": "python2"
  },
  "language_info": {
   "codemirror_mode": {
    "name": "ipython",
    "version": 2
   },
   "file_extension": ".py",
   "mimetype": "text/x-python",
   "name": "python",
   "nbconvert_exporter": "python",
   "pygments_lexer": "ipython2",
   "version": "2.7.11"
  }
 },
 "nbformat": 4,
 "nbformat_minor": 0
}
